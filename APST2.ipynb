{
 "cells": [
  {
   "attachments": {},
   "cell_type": "markdown",
   "metadata": {},
   "source": [
    "# Projet APST2 partie 1 : Q-learning/SARSA models on Frozen Lake"
   ]
  },
  {
   "attachments": {},
   "cell_type": "markdown",
   "metadata": {},
   "source": [
    "## Description of the problem (taken from the website)\n",
    "The game starts with the player at location [0,0] of the frozen lake grid world with the goal located at far extent of the world e.g. [3,3] for the 4x4 environment.\n",
    "\n",
    "Holes in the ice are distributed in set locations when using a pre-determined map or in random locations when a random map is generated.\n",
    "\n",
    "The player makes moves until they reach the goal or fall in a hole.\n",
    "\n",
    "#### Action Space\n",
    "The action shape is (1,) in the range {0, 3} indicating which direction to move the player.\n",
    "\n",
    "0: Move left\n",
    "\n",
    "1: Move down\n",
    "\n",
    "2: Move right\n",
    "\n",
    "3: Move up\n",
    "#### Observation Space\n",
    "The observation is a value representing the player’s current position as current_row * nrows + current_col (where both the row and col start at 0).\n",
    "\n",
    "For example, the goal position in the 4x4 map can be calculated as follows: 3 * 4 + 3 = 15. The number of possible observations is dependent on the size of the map.\n",
    "\n",
    "The observation is returned as an int().\n",
    "\n",
    "#### Starting State\n",
    "The episode starts with the player in state [0] (location [0, 0]).\n",
    "\n",
    "#### Rewards\n",
    "Reward schedule:\n",
    "\n",
    "Reach goal: +1\n",
    "\n",
    "Reach hole: 0\n",
    "\n",
    "Reach frozen: 0\n",
    "\n",
    "#### Episode End\n",
    "The episode ends if the following happens:\n",
    "\n",
    "Termination:\n",
    "\n",
    "The player moves into a hole.\n",
    "\n",
    "The player reaches the goal at max(nrow) * max(ncol) - 1 (location [max(nrow)-1, max(ncol)-1])."
   ]
  },
  {
   "cell_type": "code",
   "execution_count": 1,
   "metadata": {},
   "outputs": [],
   "source": [
    "import gymnasium as gym\n",
    "import pygame\n",
    "\n"
   ]
  },
  {
   "attachments": {},
   "cell_type": "markdown",
   "metadata": {},
   "source": [
    "### I.First Look at the frozen Lake game\n",
    "#### 1.1 Random movements"
   ]
  },
  {
   "cell_type": "code",
   "execution_count": 3,
   "metadata": {},
   "outputs": [
    {
     "name": "stdout",
     "output_type": "stream",
     "text": [
      "Game over. Reward: 0.0\n"
     ]
    }
   ],
   "source": [
    "def random_movements(env):\n",
    "    env.reset()\n",
    "\n",
    "    while True:\n",
    "        action = env.action_space.sample()  # choose a random action\n",
    "        next_state, reward, done, truncated ,info = env.step(action)  \n",
    "        env.render()\n",
    "\n",
    "        if done:\n",
    "\n",
    "         \n",
    "            print(f\"Game over. Reward: {reward}\")\n",
    "            break\n",
    "\n",
    "env = gym.make(\"FrozenLake-v1\", render_mode=\"human\")\n",
    "\n",
    "random_movements(env)\n",
    "\n",
    "\n",
    "\n",
    "\n",
    "            "
   ]
  },
  {
   "attachments": {},
   "cell_type": "markdown",
   "metadata": {},
   "source": [
    "We ran here a code that is performing in each step a random movement (state) that is included in the Discrete(4) space (0,1,2,3) (possible actions) , and of course the random movements will rarely lead to a final reward , as the probability of reaching the reward is very low in this case , this is why we need to use some reinforcement algorithms such as the Q-learning and SARSA in order to make these algorithms suceed in reaching the rewards.\n"
   ]
  },
  {
   "attachments": {},
   "cell_type": "markdown",
   "metadata": {},
   "source": [
    "#### 1.2 Deterministic Movements :\n",
    "The argument `is_slippery` is used to determine wheither the directions choices are going to be randomized or not.If `is_slippery` is set to `True` , it means that when we choose a certain direction , we will have a probability of 1/3 of moving towards this direction , and 1/3 for both perpendicular directions.If it's set to **False** , the choosen actions will not be rejected.\n",
    "\n",
    "Here , we are going to run a deterministic algorithm where we know the solution of the following environment : SFFF - FHFH- FFFH - HFFG , with `is_slippery` is set to `False`"
   ]
  },
  {
   "cell_type": "code",
   "execution_count": 4,
   "metadata": {},
   "outputs": [
    {
     "name": "stdout",
     "output_type": "stream",
     "text": [
      "Game over. Reward: 1.0\n"
     ]
    }
   ],
   "source": [
    "def deterministic_movements(env,actions):\n",
    "    state = env.reset()\n",
    "    env.render()\n",
    "\n",
    "    for action in actions:\n",
    "        next_state, reward, done, truncated ,info = env.step(action)\n",
    "        env.render()\n",
    "\n",
    "        if done:\n",
    "            print(f\"Game over. Reward: {reward}\")\n",
    "            break\n",
    "\n",
    "# Perform actions: down, down, right, right, down, right\n",
    "actions = [1, 1, 2, 2, 1,2]\n",
    "env = gym.make(\"FrozenLake-v1\", render_mode=\"human\", is_slippery=False)\n",
    "\n",
    "deterministic_movements(env,actions)\n",
    "\n",
    "\n",
    "\n",
    "\n"
   ]
  },
  {
   "cell_type": "code",
   "execution_count": 5,
   "metadata": {},
   "outputs": [],
   "source": [
    "env.close()"
   ]
  },
  {
   "attachments": {},
   "cell_type": "markdown",
   "metadata": {},
   "source": [
    "### Q-learning algorithm for frozen lake"
   ]
  },
  {
   "attachments": {},
   "cell_type": "markdown",
   "metadata": {},
   "source": [
    "Here we are going to focus on the main problem of the reinforcement learning for the frozen lake game , where we are going to set the argument `is_slippery` to `True` , bringing a side of randomness into the chosen actions.\n",
    "\n",
    "We decided to perform a Q-learning algorithm with an epsilon greedy method : **explain the method**"
   ]
  },
  {
   "cell_type": "code",
   "execution_count": 6,
   "metadata": {},
   "outputs": [],
   "source": [
    "import numpy as np\n",
    "import tqdm \n",
    "from tqdm import trange\n",
    "\n",
    "def e_greedy(Q, state, epsilon):\n",
    "    if np.random.uniform(0, 1) < epsilon:\n",
    "        return np.random.choice(Q.shape[1])  # Explore (choose a random action)\n",
    "    else:\n",
    "        return np.argmax(Q[state, :])  # Exploit (choose the best action)\n",
    "\n",
    "def q_learning(env,alpha,gamma,epsilon,n_loops): \n",
    "    # Initialize Q(state, action) arbitrarily\n",
    "    Q = np.zeros((env.observation_space.n, env.action_space.n))\n",
    "    # Repeat (for each episode)\n",
    "    for loop in range(n_loops):\n",
    "        # Initialize state\n",
    "        state = env.reset()[0]\n",
    "        # Choose action from state using policy derived from Q (e.g., e-greedy)\n",
    "        action = e_greedy(Q, state, epsilon)\n",
    "\n",
    "        # Repeat (for each step of episode)\n",
    "        while True:\n",
    "            # Take action a, observe reward r, next state (s')\n",
    "            state_next, r, done, truncated, _ = env.step(action)\n",
    "            # Choose a' from s' using policy derived from Q (e.g., e-greedy)\n",
    "            action_next = e_greedy(Q, state_next, epsilon)\n",
    "            # Q(s, a) <- Q(s, a) + α[r + γ * max Q(s', a') - Q(s, a)]\n",
    "            Q[state, action] = Q[state, action] + alpha * (r + gamma * np.max(Q[state_next, :]) - Q[state, action])\n",
    "            # s <- s'; a <- a'\n",
    "            state, action = state_next, action_next\n",
    "            # until s is terminal\n",
    "            if done:\n",
    "                break\n",
    "    return Q\n"
   ]
  },
  {
   "attachments": {},
   "cell_type": "markdown",
   "metadata": {},
   "source": [
    "#### Test of the algorithm ! "
   ]
  },
  {
   "cell_type": "code",
   "execution_count": 10,
   "metadata": {},
   "outputs": [
    {
     "name": "stderr",
     "output_type": "stream",
     "text": [
      "c:\\Users\\Natsu\\Anaconda3\\lib\\site-packages\\gymnasium\\envs\\toy_text\\frozen_lake.py:328: UserWarning: \u001b[33mWARN: You are calling render method without specifying any render mode. You can specify the render_mode at initialization, e.g. gym.make(\"FrozenLake-v1\", render_mode=\"rgb_array\")\u001b[0m\n",
      "  gym.logger.warn(\n"
     ]
    },
    {
     "name": "stdout",
     "output_type": "stream",
     "text": [
      "Results after 10000 tests:\n",
      "Win rate: 35.19%\n"
     ]
    }
   ],
   "source": [
    "def evaluate_q_learning(env, Q, num_test_episodes, render=True):\n",
    "    num_wins = 0\n",
    "\n",
    "    for episode in range(num_test_episodes):\n",
    "        state = env.reset()[0]\n",
    "        done = False\n",
    "\n",
    "        while not done:\n",
    "            if render:\n",
    "                env.render()\n",
    "\n",
    "            action = np.argmax(Q[state, :])\n",
    "            state, reward, done,truncated ,_ = env.step(action)\n",
    "\n",
    "            if done:\n",
    "                if reward > 0:  \n",
    "                    num_wins += 1\n",
    "\n",
    "    win_rate = num_wins / num_test_episodes\n",
    "    return win_rate\n",
    "env=gym.make(\"FrozenLake-v1\" ,is_slippery=True)\n",
    "alpha=0.7\n",
    "gamma=0.9\n",
    "epsilon=0.7\n",
    "num_episodes=20000\n",
    "q_table=q_learning(env,alpha,gamma,epsilon,num_episodes)\n",
    "num_test_episodes=10000\n",
    "win_rate = evaluate_q_learning(env, q_table, num_test_episodes=num_test_episodes)\n",
    "print(\"Results after {} tests:\".format(num_test_episodes))\n",
    "print(f\"Win rate: {win_rate * 100}%\")"
   ]
  },
  {
   "attachments": {},
   "cell_type": "markdown",
   "metadata": {},
   "source": [
    "\n",
    "To enhance the agent s performance, we will now use a modified version of the Q-learning algorithm that incorporates exponential decay. This approach will help in balancing exploration and exploitation more effectively, potentially leading to a higher win rate."
   ]
  },
  {
   "attachments": {},
   "cell_type": "markdown",
   "metadata": {},
   "source": [
    "### Q-learning with Exponential Decay on the epsilon greedy parameter \n",
    "\n",
    "The primary purpose of incorporating exponential decay is to strike an optimal balance between exploration and exploitation during the learning process.\n",
    "\n",
    "In the early stages of learning, it is essential for the agent to explore the environment to discover new states and actions, as this helps in acquiring valuable information. As the learning progresses, the agent should gradually shift its focus towards exploiting the knowledge it has gained, using it to make better decisions and ultimately improve its performance."
   ]
  },
  {
   "cell_type": "code",
   "execution_count": 12,
   "metadata": {},
   "outputs": [],
   "source": [
    "import numpy as np\n",
    "import tqdm \n",
    "from tqdm import trange\n",
    "\n",
    "def q_learning_decay_epsilon(env, num_episodes, alpha, gamma, initial_epsilon, decay_rate):\n",
    "    # Initialize Q(s, a) arbitrarily\n",
    "    Q = np.zeros((env.observation_space.n, env.action_space.n))\n",
    "\n",
    "    # Repeat (for each episode)\n",
    "    for episode in trange(num_episodes):\n",
    "        # Initialize s\n",
    "        state = env.reset()\n",
    "        state=state[0]\n",
    "\n",
    "        # Update epsilon\n",
    "        epsilon = initial_epsilon * (decay_rate ** episode)\n",
    "\n",
    "        # Choose a from s using policy derived from Q (e.g., e-greedy)\n",
    "        action = e_greedy(Q, state, epsilon)\n",
    "\n",
    "        # Repeat (for each step of episode)\n",
    "        while True:\n",
    "            # Take action a, observe r, s'\n",
    "            state_next, r, done,truncated ,_ = env.step(action)\n",
    "\n",
    "            # Choose a' from s' using policy derived from Q (e.g., e-greedy)\n",
    "            action_next = e_greedy(Q, state_next, epsilon)\n",
    "\n",
    "            # Q(s, a) <- Q(s, a) + α[r + γ * max Q(s', a') - Q(s, a)]\n",
    "            Q[state, action] = Q[state, action] + alpha * (r + gamma * np.max(Q[state_next, :]) - Q[state, action])\n",
    "\n",
    "            # state <- state'; a <- a'\n",
    "            state, action = state_next, action_next\n",
    "\n",
    "            # until s is terminal\n",
    "            if done:\n",
    "                break\n",
    "\n",
    "    return Q\n"
   ]
  },
  {
   "attachments": {},
   "cell_type": "markdown",
   "metadata": {},
   "source": [
    "#### Test of the algorithm ! "
   ]
  },
  {
   "cell_type": "code",
   "execution_count": 13,
   "metadata": {},
   "outputs": [
    {
     "name": "stderr",
     "output_type": "stream",
     "text": [
      "100%|██████████| 20000/20000 [00:22<00:00, 900.06it/s] \n",
      "c:\\Users\\Natsu\\Anaconda3\\lib\\site-packages\\gymnasium\\envs\\toy_text\\frozen_lake.py:328: UserWarning: \u001b[33mWARN: You are calling render method without specifying any render mode. You can specify the render_mode at initialization, e.g. gym.make(\"FrozenLake-v1\", render_mode=\"rgb_array\")\u001b[0m\n",
      "  gym.logger.warn(\n"
     ]
    },
    {
     "name": "stdout",
     "output_type": "stream",
     "text": [
      "Results after 10000 tests:\n",
      "Win rate: 82.82000000000001%\n"
     ]
    }
   ],
   "source": [
    "env = gym.make('FrozenLake-v1', is_slippery=True)\n",
    "alpha = 0.7\n",
    "gamma = 0.99\n",
    "epsilon = 1.0\n",
    "epsilon_min = 0.01 \n",
    "epsilon_decay = 0.999\n",
    "num_episodes = 20000\n",
    "q_table_epsilon_decay=q_learning_decay_epsilon(env=env, num_episodes=num_episodes, alpha=alpha, gamma=gamma, initial_epsilon=epsilon, decay_rate=epsilon_decay)\n",
    "win_rate = evaluate_q_learning(env, q_table_epsilon_decay, num_test_episodes=num_test_episodes)\n",
    "print(\"Results after {} tests:\".format(num_test_episodes))\n",
    "print(f\"Win rate: {win_rate * 100}%\")"
   ]
  },
  {
   "attachments": {},
   "cell_type": "markdown",
   "metadata": {},
   "source": [
    "We can observe a much higher and better score than what we got without the exponential decay, we can even try to optimize the method by fine tuning the parameters and get the optimal values of the hyperparameters."
   ]
  },
  {
   "attachments": {},
   "cell_type": "markdown",
   "metadata": {},
   "source": [
    "#### Fine tuning des hyperparametres : "
   ]
  },
  {
   "cell_type": "code",
   "execution_count": 14,
   "metadata": {},
   "outputs": [
    {
     "name": "stderr",
     "output_type": "stream",
     "text": [
      "100%|██████████| 20000/20000 [00:21<00:00, 920.33it/s] \n"
     ]
    },
    {
     "name": "stdout",
     "output_type": "stream",
     "text": [
      "alpha=0.3, gamma=0.97, initial_epsilon=1, decay_rate=0.999, win_rate=0.8215\n"
     ]
    },
    {
     "name": "stderr",
     "output_type": "stream",
     "text": [
      "100%|██████████| 20000/20000 [00:24<00:00, 811.71it/s]\n"
     ]
    },
    {
     "name": "stdout",
     "output_type": "stream",
     "text": [
      "alpha=0.3, gamma=0.98, initial_epsilon=1, decay_rate=0.999, win_rate=0.8186\n"
     ]
    },
    {
     "name": "stderr",
     "output_type": "stream",
     "text": [
      "100%|██████████| 20000/20000 [00:19<00:00, 1021.11it/s]\n"
     ]
    },
    {
     "name": "stdout",
     "output_type": "stream",
     "text": [
      "alpha=0.3, gamma=0.99, initial_epsilon=1, decay_rate=0.999, win_rate=0.6961\n"
     ]
    },
    {
     "name": "stderr",
     "output_type": "stream",
     "text": [
      "100%|██████████| 20000/20000 [00:29<00:00, 669.97it/s]\n"
     ]
    },
    {
     "name": "stdout",
     "output_type": "stream",
     "text": [
      "alpha=0.99, gamma=0.97, initial_epsilon=1, decay_rate=0.999, win_rate=0.8285\n"
     ]
    },
    {
     "name": "stderr",
     "output_type": "stream",
     "text": [
      "100%|██████████| 20000/20000 [00:29<00:00, 670.73it/s] \n"
     ]
    },
    {
     "name": "stdout",
     "output_type": "stream",
     "text": [
      "alpha=0.99, gamma=0.98, initial_epsilon=1, decay_rate=0.999, win_rate=0.754\n"
     ]
    },
    {
     "name": "stderr",
     "output_type": "stream",
     "text": [
      "100%|██████████| 20000/20000 [00:33<00:00, 591.12it/s]\n"
     ]
    },
    {
     "name": "stdout",
     "output_type": "stream",
     "text": [
      "alpha=0.99, gamma=0.99, initial_epsilon=1, decay_rate=0.999, win_rate=0.8226\n"
     ]
    },
    {
     "name": "stderr",
     "output_type": "stream",
     "text": [
      "100%|██████████| 20000/20000 [00:18<00:00, 1072.15it/s]\n"
     ]
    },
    {
     "name": "stdout",
     "output_type": "stream",
     "text": [
      "alpha=0.7, gamma=0.97, initial_epsilon=1, decay_rate=0.999, win_rate=0.8281\n"
     ]
    },
    {
     "name": "stderr",
     "output_type": "stream",
     "text": [
      "100%|██████████| 20000/20000 [00:22<00:00, 902.65it/s] \n"
     ]
    },
    {
     "name": "stdout",
     "output_type": "stream",
     "text": [
      "alpha=0.7, gamma=0.98, initial_epsilon=1, decay_rate=0.999, win_rate=0.8265\n"
     ]
    },
    {
     "name": "stderr",
     "output_type": "stream",
     "text": [
      "100%|██████████| 20000/20000 [00:24<00:00, 802.41it/s] \n"
     ]
    },
    {
     "name": "stdout",
     "output_type": "stream",
     "text": [
      "alpha=0.7, gamma=0.99, initial_epsilon=1, decay_rate=0.999, win_rate=0.8245\n"
     ]
    },
    {
     "name": "stderr",
     "output_type": "stream",
     "text": [
      "100%|██████████| 20000/20000 [00:19<00:00, 1019.15it/s]\n"
     ]
    },
    {
     "name": "stdout",
     "output_type": "stream",
     "text": [
      "alpha=0.9, gamma=0.97, initial_epsilon=1, decay_rate=0.999, win_rate=0.8254\n"
     ]
    },
    {
     "name": "stderr",
     "output_type": "stream",
     "text": [
      "100%|██████████| 20000/20000 [00:29<00:00, 670.76it/s]\n"
     ]
    },
    {
     "name": "stdout",
     "output_type": "stream",
     "text": [
      "alpha=0.9, gamma=0.98, initial_epsilon=1, decay_rate=0.999, win_rate=0.8209\n"
     ]
    },
    {
     "name": "stderr",
     "output_type": "stream",
     "text": [
      "100%|██████████| 20000/20000 [00:23<00:00, 840.78it/s] \n"
     ]
    },
    {
     "name": "stdout",
     "output_type": "stream",
     "text": [
      "alpha=0.9, gamma=0.99, initial_epsilon=1, decay_rate=0.999, win_rate=0.8212\n",
      "Best hyperparameters: alpha=0.99, gamma=0.97, initial_epsilon=1, decay_rate=0.999\n"
     ]
    },
    {
     "name": "stderr",
     "output_type": "stream",
     "text": [
      "100%|██████████| 20000/20000 [00:21<00:00, 937.55it/s] \n"
     ]
    },
    {
     "name": "stdout",
     "output_type": "stream",
     "text": [
      "Results after 10000 tests:\n",
      "Win rate: 81.99%\n"
     ]
    }
   ],
   "source": [
    "\n",
    "from itertools import product\n",
    "# Define the hyperparameters to search over\n",
    "alphas = [0.3,0.99, 0.7, 0.9]\n",
    "gammas = [0.97,0.98, 0.99]\n",
    "decay_rates = [0.999]\n",
    "initial_epsilon=1\n",
    "# Run a grid search over the hyperparameters\n",
    "best_win_rate = 0\n",
    "best_hyperparams = None\n",
    "for alpha, gamma, decay_rate in product(alphas, gammas, decay_rates):\n",
    "    q_table = q_learning_decay_epsilon(env, num_episodes=num_episodes, alpha=alpha, gamma=gamma, initial_epsilon=initial_epsilon, decay_rate=decay_rate)\n",
    "    win_rate = evaluate_q_learning(env, q_table, num_test_episodes=num_test_episodes, render=False)\n",
    "    print(\"alpha={}, gamma={}, initial_epsilon={}, decay_rate={}, win_rate={}\".format(alpha, gamma, initial_epsilon, decay_rate, win_rate))\n",
    "    if win_rate > best_win_rate:\n",
    "        best_win_rate = win_rate\n",
    "        best_hyperparams = (alpha, gamma, initial_epsilon, decay_rate)\n",
    "\n",
    "print(\"Best hyperparameters: alpha={}, gamma={}, initial_epsilon={}, decay_rate={}\".format(*best_hyperparams))\n",
    "q_table_decay_epsilon = q_learning_decay_epsilon(env, num_episodes=num_episodes, alpha=best_hyperparams[0], gamma=best_hyperparams[1], initial_epsilon=best_hyperparams[2], decay_rate=best_hyperparams[3])\n",
    "win_rate = evaluate_q_learning(env, q_table_decay_epsilon, num_test_episodes=num_test_episodes, render=True)\n",
    "print(\"Results after {} tests:\".format(num_test_episodes))\n",
    "print(f\"Win rate: {win_rate * 100}%\")"
   ]
  },
  {
   "cell_type": "code",
   "execution_count": 42,
   "metadata": {},
   "outputs": [
    {
     "name": "stdout",
     "output_type": "stream",
     "text": [
      "The best values for (alpha,gamma,initial_epsilon,decay_rate) are (0.99, 0.97, 1, 0.999) which got a win rate of  0.8285\n"
     ]
    }
   ],
   "source": [
    "print('The best values for (alpha,gamma,initial_epsilon,decay_rate) are',best_hyperparams , 'which got a win rate of ' , best_win_rate)\n",
    "\n",
    "alpha,gamma,initial_epsilon,decay_rate=best_hyperparams"
   ]
  },
  {
   "attachments": {},
   "cell_type": "markdown",
   "metadata": {},
   "source": [
    "### Q-learning with exponential decay on epsilon and the learning rate parameters \n",
    "\n",
    "Here, we are using the exponential decay method on both the epsilon and the learning rate parameters to see if there are any improvements\n"
   ]
  },
  {
   "cell_type": "code",
   "execution_count": 28,
   "metadata": {},
   "outputs": [],
   "source": [
    "def q_learning_decay_epsilon_alpha(env, num_episodes, initial_alpha, gamma, initial_epsilon, alpha_decay_rate,epsilon_decay_rate):\n",
    "    # Initialize Q(s, a) arbitrarily\n",
    "    Q = np.zeros((env.observation_space.n, env.action_space.n))\n",
    "    rewards_per_episode = []\n",
    "\n",
    "    # Repeat (for each episode)\n",
    "    for episode in trange(num_episodes):\n",
    "        # Initialize s\n",
    "        state = env.reset()\n",
    "        state=state[0]\n",
    "\n",
    "        # Update epsilon\n",
    "        alpha = initial_alpha * (alpha_decay_rate ** episode)\n",
    "        epsilon = initial_epsilon * (epsilon_decay_rate ** episode)\n",
    "\n",
    "        # Choose a from s using policy derived from Q (e.g., e-greedy)\n",
    "        action = e_greedy(Q, state, epsilon)\n",
    "        total_reward = 0\n",
    "\n",
    "        # Repeat (for each step of episode)\n",
    "        while True:\n",
    "            # Take action a, observe r, s'\n",
    "            state_next, r, done,truncated ,_ = env.step(action)\n",
    "            total_reward += r\n",
    "\n",
    "            # Choose a' from s' using policy derived from Q (e.g., e-greedy)\n",
    "            action_next = e_greedy(Q, state_next, epsilon)\n",
    "\n",
    "            # Q(s, a) <- Q(s, a) + α[r + γ * max Q(s', a') - Q(s, a)]\n",
    "            Q[state, action] = Q[state, action] + alpha * (r + gamma * np.max(Q[state_next, :]) - Q[state, action])\n",
    "\n",
    "            # state <- state'; a <- a'\n",
    "            state, action = state_next, action_next\n",
    "\n",
    "            # until s is terminal\n",
    "            if done:\n",
    "                break\n",
    "        rewards_per_episode.append(total_reward)\n",
    "\n",
    "    return Q,rewards_per_episode\n"
   ]
  },
  {
   "attachments": {},
   "cell_type": "markdown",
   "metadata": {},
   "source": [
    "#### Test of the algo : "
   ]
  },
  {
   "cell_type": "code",
   "execution_count": 29,
   "metadata": {},
   "outputs": [
    {
     "name": "stderr",
     "output_type": "stream",
     "text": [
      "100%|██████████| 20000/20000 [00:23<00:00, 846.66it/s]\n",
      "c:\\Users\\Natsu\\Anaconda3\\lib\\site-packages\\gymnasium\\envs\\toy_text\\frozen_lake.py:328: UserWarning: \u001b[33mWARN: You are calling render method without specifying any render mode. You can specify the render_mode at initialization, e.g. gym.make(\"FrozenLake-v1\", render_mode=\"rgb_array\")\u001b[0m\n",
      "  gym.logger.warn(\n"
     ]
    },
    {
     "name": "stdout",
     "output_type": "stream",
     "text": [
      "Results after 1000 tests:\n",
      "Win rate: 82.39999999999999%\n"
     ]
    }
   ],
   "source": [
    "# Initialize the environment\n",
    "env=gym.make('FrozenLake-v1', is_slippery=True)\n",
    "\n",
    "# Q-learning parameters\n",
    "alpha = 1.0\n",
    "alpha_decay = 0.999\n",
    "gamma = 0.99\n",
    "epsilon = 1.0\n",
    "epsilon_decay = 0.999\n",
    "num_episodes = 20000\n",
    "num_test_episodes=1000\n",
    "q_table_decay_epsilon_alpha,rewards_per_episode=q_learning_decay_epsilon_alpha(env=env,num_episodes=num_episodes,initial_epsilon=epsilon,epsilon_decay_rate=epsilon_decay,alpha_decay_rate=alpha_decay,gamma=gamma,initial_alpha=alpha)\n",
    "\n",
    "win_rate = evaluate_q_learning(env, q_table_decay_epsilon_alpha, num_test_episodes=1000)\n",
    "print(\"Results after {} tests:\".format(num_test_episodes))\n",
    "print(f\"Win rate: {win_rate * 100}%\")"
   ]
  },
  {
   "attachments": {},
   "cell_type": "markdown",
   "metadata": {},
   "source": [
    "### Policy visualization : "
   ]
  },
  {
   "cell_type": "code",
   "execution_count": 25,
   "metadata": {},
   "outputs": [
    {
     "name": "stderr",
     "output_type": "stream",
     "text": [
      "C:\\Users\\Natsu\\AppData\\Local\\Temp\\ipykernel_16516\\4254730763.py:9: MatplotlibDeprecationWarning: The get_cmap function was deprecated in Matplotlib 3.7 and will be removed two minor releases later. Use ``matplotlib.colormaps[name]`` or ``matplotlib.colormaps.get_cmap(obj)`` instead.\n",
      "  cmap = plt.cm.get_cmap(\"Pastel1\", 4)\n"
     ]
    },
    {
     "data": {
      "image/png": "[encoded data removed]",
      "text/plain": [
       "<Figure size 640x480 with 1 Axes>"
      ]
     },
     "metadata": {},
     "output_type": "display_data"
    }
   ],
   "source": [
    "import numpy as np\n",
    "import matplotlib.pyplot as plt\n",
    "\n",
    "def visualize_policy(q_table, frozen_lake_map):\n",
    "    action_dict = {0: \"←\", 1: \"↓\", 2: \"→\", 3: \"↑\"}\n",
    "    policy = np.argmax(q_table, axis=1).reshape((4, 4))\n",
    "\n",
    "    fig, ax = plt.subplots()\n",
    "    cmap = plt.cm.get_cmap(\"Pastel1\", 4)\n",
    "    ax.matshow(np.ones((4, 4)), cmap=cmap)\n",
    "\n",
    "    for row in range(4):\n",
    "        for col in range(4):\n",
    "            if frozen_lake_map[row][col] == 'F':\n",
    "                ax.text(col, row, action_dict[policy[row, col]], ha='center', va='center', fontsize=20, fontweight='bold', color='k')\n",
    "            elif frozen_lake_map[row][col] == 'S':\n",
    "                ax.text(col, row, 'S', ha='center', va='center', fontsize=20, fontweight='bold', color='r')\n",
    "            elif frozen_lake_map[row][col] == 'G':\n",
    "                ax.text(col, row, 'G', ha='center', va='center', fontsize=20, fontweight='bold', color='g')\n",
    "            else:\n",
    "                ax.text(col, row, 'H', ha='center', va='center', fontsize=20, fontweight='bold', color='b')\n",
    "\n",
    "    plt.xticks([])\n",
    "    plt.yticks([])\n",
    "    plt.title(\"Policy Visualization\")\n",
    "    plt.show()\n",
    "\n",
    "\n",
    "frozen_lake_map = [\n",
    "    ['S', 'F', 'F', 'F'],\n",
    "    ['F', 'H', 'F', 'H'],\n",
    "    ['F', 'F', 'F', 'H'],\n",
    "    ['H', 'F', 'F', 'G']\n",
    "]\n",
    "visualize_policy(q_table_decay_epsilon_alpha,frozen_lake_map=frozen_lake_map)"
   ]
  },
  {
   "attachments": {},
   "cell_type": "markdown",
   "metadata": {},
   "source": [
    "This policy visualization shows the action that the algorithm will take in each state , if you try to play at this game you will likely end up choosing the same actions in the same state !! "
   ]
  },
  {
   "cell_type": "code",
   "execution_count": 32,
   "metadata": {},
   "outputs": [
    {
     "data": {
      "image/png": "[encoded data removed]",
      "text/plain": [
       "<Figure size 640x480 with 1 Axes>"
      ]
     },
     "metadata": {},
     "output_type": "display_data"
    }
   ],
   "source": [
    "def win_rate_over_time(rewards_per_episode, episode_interval):\n",
    "    win_rate = [np.mean(rewards_per_episode[i:i + episode_interval]) for i in range(0, len(rewards_per_episode), episode_interval)]\n",
    "    x_ticks = range(0, len(rewards_per_episode), episode_interval)\n",
    "    \n",
    "    plt.plot(x_ticks, win_rate)\n",
    "    plt.xlabel(\"Episode\")\n",
    "    plt.ylabel(\"Win Rate\")\n",
    "    plt.title(\"Win Rate Over Time\")\n",
    "    plt.show()\n",
    "\n",
    "\n",
    "win_rate_over_time(rewards_per_episode=rewards_per_episode,episode_interval=1000)\n",
    "\n"
   ]
  },
  {
   "attachments": {},
   "cell_type": "markdown",
   "metadata": {},
   "source": [
    "## SARSA algorithm "
   ]
  },
  {
   "cell_type": "code",
   "execution_count": 35,
   "metadata": {},
   "outputs": [
    {
     "name": "stderr",
     "output_type": "stream",
     "text": [
      "100%|██████████| 20000/20000 [00:22<00:00, 890.03it/s]\n"
     ]
    },
    {
     "name": "stdout",
     "output_type": "stream",
     "text": [
      "Results after 1000 tests:\n",
      "Win rate: 83.2% 2.040631186762095e-09\n"
     ]
    }
   ],
   "source": [
    "def epsilon_greedy(q, state, epsilon):\n",
    "    if np.random.random() < epsilon:\n",
    "        return np.random.randint(q.shape[1])\n",
    "    else:\n",
    "        return np.argmax(q[state, :])\n",
    "\n",
    "\n",
    "\n",
    "def sarsa_decay_epsilon(alpha, epsilon, gamma, episodes, env, epsilon_decay):\n",
    "    q=np.zeros((env.observation_space.n, env.action_space.n))\n",
    "\n",
    "    for episode in trange(episodes):\n",
    "        state = env.reset()[0]\n",
    "        action = e_greedy(q, state, epsilon)\n",
    "        total_reward = 0\n",
    "\n",
    "        while True:\n",
    "            next_state, reward, done,truncated, _ = env.step(action)\n",
    "            next_action = epsilon_greedy(q, next_state, epsilon)\n",
    "            q[state, action] = (1 - alpha) * q[state, action] + alpha * (reward + gamma * q[next_state, next_action])\n",
    "\n",
    "            state = next_state\n",
    "            action = next_action\n",
    "            total_reward += reward\n",
    "\n",
    "            if done:\n",
    "                break\n",
    "\n",
    "        epsilon *= epsilon_decay\n",
    "    return q,epsilon\n",
    "\n",
    "env = gym.make(\"FrozenLake-v1\",is_slippery=True)\n",
    "initial_alpha=0.8\n",
    "initial_epsilon=1\n",
    "alpha_decay_rate=0.9\n",
    "epsilon_decay_rate=0.999\n",
    "gamma=0.99\n",
    "num_episodes=20000\n",
    "q_table_sarsa,final_epsilon = sarsa_decay_epsilon(env=env, episodes=num_episodes, alpha=initial_alpha, epsilon=initial_epsilon, epsilon_decay=epsilon_decay_rate, gamma=gamma)\n",
    "\n",
    "num_test_episodes=1000\n",
    "win_rate = evaluate_q_learning(env, q_table_sarsa, num_test_episodes=num_test_episodes)\n",
    "print(\"Results after {} tests:\".format(num_test_episodes))\n",
    "print(f\"Win rate: {win_rate * 100}%\" , final_epsilon)"
   ]
  },
  {
   "cell_type": "code",
   "execution_count": 45,
   "metadata": {},
   "outputs": [
    {
     "name": "stderr",
     "output_type": "stream",
     "text": [
      "100%|██████████| 20000/20000 [00:17<00:00, 1129.96it/s]\n"
     ]
    },
    {
     "name": "stdout",
     "output_type": "stream",
     "text": [
      "Results after 1000 tests:\n",
      "Win rate: 80.7%\n"
     ]
    }
   ],
   "source": [
    "def sarsa_decay_alpha_epsilon(env, num_episodes, initial_alpha, initial_epsilon, alpha_decay_rate, epsilon_decay_rate, gamma):\n",
    "    # Initialize Q(s, a) arbitrarily\n",
    "    Q = np.zeros((env.observation_space.n, env.action_space.n))\n",
    "\n",
    "    # Repeat (for each episode)\n",
    "    for episode in trange(num_episodes):\n",
    "        # Initialize s\n",
    "        state = env.reset()[0]\n",
    "\n",
    "        # Update alpha and epsilon\n",
    "        alpha = initial_alpha * (alpha_decay_rate ** episode)\n",
    "        epsilon =initial_epsilon * (epsilon_decay_rate ** episode)\n",
    "\n",
    "        # Choose a from s using policy derived from Q (e.g., e-greedy)\n",
    "        action = e_greedy(Q, state, epsilon)\n",
    "\n",
    "        # Repeat (for each step of episode)\n",
    "        while True:\n",
    "            # Take action a, observe r, s'\n",
    "            state_next, r, done,truncated ,_ = env.step(action)\n",
    "\n",
    "            # Choose a' from s' using policy derived from Q (e.g., e-greedy)\n",
    "            action_next = e_greedy(Q, state_next, epsilon)\n",
    "\n",
    "            # Q(s, a) <- Q(s, a) + α[r + γ * Q(s', a') - Q(s, a)]\n",
    "            Q[state, action] = Q[state, action] + alpha * (r + gamma * Q[state_next, action_next] - Q[state, action])\n",
    "\n",
    "            # s <- s'; a <- a'\n",
    "            state, action= state_next, action_next\n",
    "\n",
    "            # until s is terminal\n",
    "            if done:\n",
    "                break\n",
    "\n",
    "    return Q\n",
    "\n",
    "\n",
    "env = gym.make(\"FrozenLake-v1\",is_slippery=True)\n",
    "initial_alpha=1\n",
    "initial_epsilon=1\n",
    "alpha_decay_rate=0.999\n",
    "epsilon_decay_rate=0.999\n",
    "gamma=0.97\n",
    "num_episodes=20000\n",
    "q_table_sarsa = sarsa_decay_alpha_epsilon(env, num_episodes=num_episodes, initial_alpha=initial_alpha, initial_epsilon=initial_epsilon, alpha_decay_rate=alpha_decay_rate, epsilon_decay_rate=epsilon_decay_rate, gamma=gamma)\n",
    "\n",
    "num_test_episodes=1000\n",
    "win_rate = evaluate_q_learning(env, q_table_sarsa, num_test_episodes=num_test_episodes)\n",
    "print(\"Results after {} tests:\".format(num_test_episodes))\n",
    "print(f\"Win rate: {win_rate * 100}%\")\n"
   ]
  },
  {
   "cell_type": "code",
   "execution_count": 47,
   "metadata": {},
   "outputs": [
    {
     "name": "stderr",
     "output_type": "stream",
     "text": [
      "C:\\Users\\Natsu\\AppData\\Local\\Temp\\ipykernel_16516\\4254730763.py:9: MatplotlibDeprecationWarning: The get_cmap function was deprecated in Matplotlib 3.7 and will be removed two minor releases later. Use ``matplotlib.colormaps[name]`` or ``matplotlib.colormaps.get_cmap(obj)`` instead.\n",
      "  cmap = plt.cm.get_cmap(\"Pastel1\", 4)\n"
     ]
    },
    {
     "data": {
      "image/png": "[encoded data removed]",
      "text/plain": [
       "<Figure size 640x480 with 1 Axes>"
      ]
     },
     "metadata": {},
     "output_type": "display_data"
    }
   ],
   "source": [
    "visualize_policy(q_table_sarsa,frozen_lake_map=frozen_lake_map)"
   ]
  }
 ],
 "metadata": {
  "kernelspec": {
   "display_name": "base",
   "language": "python",
   "name": "python3"
  },
  "language_info": {
   "codemirror_mode": {
    "name": "ipython",
    "version": 3
   },
   "file_extension": ".py",
   "mimetype": "text/x-python",
   "name": "python",
   "nbconvert_exporter": "python",
   "pygments_lexer": "ipython3",
   "version": "3.10.9"
  },
  "orig_nbformat": 4
 },
 "nbformat": 4,
 "nbformat_minor": 2
}
