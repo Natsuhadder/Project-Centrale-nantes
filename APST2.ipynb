{
 "cells": [
  {
   "attachments": {},
   "cell_type": "markdown",
   "metadata": {},
   "source": [
    "# Projet APST2 partie 1 : Q-learning/SARSA models on Frozen Lake"
   ]
  },
  {
   "cell_type": "markdown",
   "metadata": {},
   "source": [
    "## Description of the problem (taken from the website)*\n",
    "The game starts with the player at location [0,0] of the frozen lake grid world with the goal located at far extent of the world e.g. [3,3] for the 4x4 environment.\n",
    "\n",
    "Holes in the ice are distributed in set locations when using a pre-determined map or in random locations when a random map is generated.\n",
    "\n",
    "The player makes moves until they reach the goal or fall in a hole.\n",
    "\n",
    "#### Action Space\n",
    "The action shape is (1,) in the range {0, 3} indicating which direction to move the player.\n",
    "\n",
    "0: Move left\n",
    "\n",
    "1: Move down\n",
    "\n",
    "2: Move right\n",
    "\n",
    "3: Move up\n",
    "#### Observation Space\n",
    "The observation is a value representing the player’s current position as current_row * nrows + current_col (where both the row and col start at 0).\n",
    "\n",
    "For example, the goal position in the 4x4 map can be calculated as follows: 3 * 4 + 3 = 15. The number of possible observations is dependent on the size of the map.\n",
    "\n",
    "The observation is returned as an int().\n",
    "\n",
    "#### Starting State\n",
    "The episode starts with the player in state [0] (location [0, 0]).\n",
    "\n",
    "#### Rewards\n",
    "Reward schedule:\n",
    "\n",
    "Reach goal: +1\n",
    "\n",
    "Reach hole: 0\n",
    "\n",
    "Reach frozen: 0\n",
    "\n",
    "#### Episode End\n",
    "The episode ends if the following happens:\n",
    "\n",
    "Termination:\n",
    "\n",
    "The player moves into a hole.\n",
    "\n",
    "The player reaches the goal at max(nrow) * max(ncol) - 1 (location [max(nrow)-1, max(ncol)-1])."
   ]
  },
  {
   "cell_type": "code",
   "execution_count": 2,
   "metadata": {},
   "outputs": [],
   "source": [
    "import gymnasium as gym\n",
    "import pygame"
   ]
  },
  {
   "attachments": {},
   "cell_type": "markdown",
   "metadata": {},
   "source": [
    "### I.First Look at the frozen Lake game\n",
    "#### 1.1 Random movements"
   ]
  },
  {
   "cell_type": "code",
   "execution_count": 6,
   "metadata": {},
   "outputs": [
    {
     "name": "stdout",
     "output_type": "stream",
     "text": [
      "Game over. Reward: 0.0\n"
     ]
    }
   ],
   "source": [
    "env = gym.make(\"FrozenLake-v1\", render_mode=\"human\")\n",
    "state = env.reset()\n",
    "\n",
    "while True:\n",
    "    action = env.action_space.sample()  # choose a random action\n",
    "    next_state, reward, done, truncated ,info = env.step(action)  \n",
    "    env.render()\n",
    "\n",
    "    if done:\n",
    "        print(f\"Game over. Reward: {reward}\")\n",
    "        break"
   ]
  },
  {
   "attachments": {},
   "cell_type": "markdown",
   "metadata": {},
   "source": [
    "We ran here a code that is performing in each step a random movement (state) that is included in the Discrete(4) space (0,1,2,3) (possible actions) , and of course the random movements will rarely lead to a final reward , as the probability of reaching the reward is very low in this case , this is why we need to use some reoforcement algorithms such as the Q-learning and SARSAA in order to make these algorithms suceed in reaching the rewards.\n"
   ]
  }
 ],
 "metadata": {
  "kernelspec": {
   "display_name": "base",
   "language": "python",
   "name": "python3"
  },
  "language_info": {
   "codemirror_mode": {
    "name": "ipython",
    "version": 3
   },
   "file_extension": ".py",
   "mimetype": "text/x-python",
   "name": "python",
   "nbconvert_exporter": "python",
   "pygments_lexer": "ipython3",
   "version": "3.9.12"
  },
  "orig_nbformat": 4
 },
 "nbformat": 4,
 "nbformat_minor": 2
}
